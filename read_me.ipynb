{
  "nbformat": 4,
  "nbformat_minor": 0,
  "metadata": {
    "colab": {
      "name": "read me",
      "provenance": [],
      "collapsed_sections": [],
      "authorship_tag": "ABX9TyNQc1X8jrwaQGA9XFL5bLCX",
      "include_colab_link": true
    },
    "kernelspec": {
      "name": "python3",
      "display_name": "Python 3"
    },
    "language_info": {
      "name": "python"
    }
  },
  "cells": [
    {
      "cell_type": "markdown",
      "metadata": {
        "id": "view-in-github",
        "colab_type": "text"
      },
      "source": [
        "<a href=\"https://colab.research.google.com/github/roselinedilani/Telephone-Directory-CRUD-Operation/blob/main/read_me.ipynb\" target=\"_parent\"><img src=\"https://colab.research.google.com/assets/colab-badge.svg\" alt=\"Open In Colab\"/></a>"
      ]
    },
    {
      "cell_type": "markdown",
      "source": [
        "Telephone directory: Perform CRUD operation using mongodb and python.\n",
        "You need to\n",
        "Import necessary modules.\n",
        "Perform CRUD operations to manipulate data in MongoDB. Create, retrieve, update, and delete (CRUD)\n",
        "Create a database using attribute style on a MongoClient instance. Declare a variable db and assign the new database as an attribute of the client.\n",
        "Create a collection.\n",
        "For CRUD operation, create a directory which has fields like Name, Phone number, Place etc.,\n",
        "Insert the record into the collection.\n",
        "Make a query to find records you just created.\n",
        "Modify the records, use the update_one() method. The update_one() method requires two arguments, query and update.\n",
        "Delete the record, use delete_one() method. delete_one() requires a query parameter which specifies the document to delete.\n"
      ],
      "metadata": {
        "id": "TfQcV1KP_GTe"
      }
    }
  ]
}